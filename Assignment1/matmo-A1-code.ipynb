{
 "cells": [
  {
   "cell_type": "markdown",
   "metadata": {},
   "source": [
    "# Assignment: Scalable Processing\n",
    "## Yelp Reviews and Authenticity\n",
    "\n",
    "Big Data Management | by Matteo Mormile | matmo@itu.dk | 03/10/2023\n"
   ]
  },
  {
   "cell_type": "markdown",
   "metadata": {
    "tags": []
   },
   "source": [
    "## Connecting to the Spark Cluster job using the two JobParameters.json\n",
    "\n",
    "To connect this jupyter notebook with your Spark cluster, we need to tell jupyter how it can access the spark cluster. Below code accomplishes that. "
   ]
  },
  {
   "cell_type": "code",
   "execution_count": 41,
   "metadata": {
    "execution": {
     "iopub.execute_input": "2023-10-10T18:51:55.034424Z",
     "iopub.status.busy": "2023-10-10T18:51:55.033606Z",
     "iopub.status.idle": "2023-10-10T18:51:55.052383Z",
     "shell.execute_reply": "2023-10-10T18:51:55.051411Z",
     "shell.execute_reply.started": "2023-10-10T18:51:55.034371Z"
    },
    "tags": []
   },
   "outputs": [
    {
     "name": "stdout",
     "output_type": "stream",
     "text": [
      "Already been executed once, not running again!\n"
     ]
    }
   ],
   "source": [
    "#####################################################################\n",
    "# DO NOT CHANGE ANYTHING HERE.\n",
    "# IF YOU HAVE PROBLEMS, CHECK THE ASSIGNMENT GUIDE CAREFULLY \n",
    "#####################################################################\n",
    "    \n",
    "# Only execute this cell once.\n",
    "if 'EXECUTED' in globals():\n",
    "    # check if variable 'EXECUTED' exists in the global variable namespace\n",
    "    print(\"Already been executed once, not running again!\")\n",
    "else:\n",
    "    print(\"Cell has not been executed before, running...\")\n",
    "    import os, json, pyspark\n",
    "    from pyspark.conf import SparkConf\n",
    "    from pyspark.sql import SparkSession, functions as F\n",
    "\n",
    "    # Two files are automatically read: JobParameters.json for the Spark Cluster job using a temporary spark instance\n",
    "    # and JobParameters.json for the Jupyter Lab job to extract the hostname of the cluster. \n",
    "\n",
    "    MASTER_HOST_NAME = None\n",
    "\n",
    "    # Open the parameters Jupyter Lab app was launched with\n",
    "    with open('/work/JobParameters.json', 'r') as file:\n",
    "        JUPYTER_LAB_JOB_PARAMS = json.load(file)\n",
    "        # from pprint import pprint; pprint(JUPYTER_LAB_JOB_PARAMS) \n",
    "        for resource in JUPYTER_LAB_JOB_PARAMS['request']['resources']:\n",
    "            if 'hostname' in resource.keys():\n",
    "                MASTER_HOST_NAME = resource['hostname']\n",
    "\n",
    "    MASTER_HOST = f\"spark://{MASTER_HOST_NAME}:7077\"\n",
    "\n",
    "    conf = SparkConf().setAll([\n",
    "            (\"spark.app.name\", 'reading_job_params_app'), \n",
    "            (\"spark.master\", MASTER_HOST),\n",
    "        ])\n",
    "    spark = SparkSession.builder.config(conf=conf)\\\n",
    "                                .getOrCreate()\n",
    "\n",
    "    CLUSTER_PARAMETERS_JSON_DF = spark.read.option(\"multiline\",\"true\").json('/work/JobParameters.json')\n",
    "\n",
    "    # Extract cluster info from the specific JobParameters.json\n",
    "    NODES = CLUSTER_PARAMETERS_JSON_DF.select(\"request.replicas\").first()[0]\n",
    "    CPUS_PER_NODE = CLUSTER_PARAMETERS_JSON_DF.select(\"machineType.cpu\").first()[0] - 1\n",
    "    MEM_PER_NODE = CLUSTER_PARAMETERS_JSON_DF.select(\"machineType.memoryInGigs\").first()[0]\n",
    "\n",
    "    CLUSTER_CORES_MAX = CPUS_PER_NODE * NODES\n",
    "    CLUSTER_MEMORY_MAX = MEM_PER_NODE * NODES \n",
    "\n",
    "    EXECUTOR_CORES = CPUS_PER_NODE - 1  # set cores per executor on worker node\n",
    "    EXECUTOR_MEMORY = int(\n",
    "        MEM_PER_NODE / (CPUS_PER_NODE / EXECUTOR_CORES) * 0.5\n",
    "    )  # set executor memory in GB on each worker node\n",
    "\n",
    "    # Make sure there is a dir for spark logs\n",
    "    if not os.path.exists('spark_logs'):\n",
    "        os.mkdir('spark_logs')\n",
    "\n",
    "    conf = SparkConf().setAll(\n",
    "        [\n",
    "            (\"spark.app.name\", 'spark_assignment'), # Change to your liking \n",
    "            (\"spark.sql.caseSensitive\", False), # Optional: Make queries strings sensitive to captialization\n",
    "            (\"spark.master\", MASTER_HOST),\n",
    "            (\"spark.cores.max\", CLUSTER_CORES_MAX),\n",
    "            (\"spark.executor.cores\", EXECUTOR_CORES),\n",
    "            (\"spark.executor.memory\", str(EXECUTOR_MEMORY) + \"g\"),\n",
    "            (\"spark.eventLog.enabled\", True),\n",
    "            (\"spark.eventLog.dir\", \"spark_logs\"),\n",
    "            (\"spark.history.fs.logDirectory\", \"spark_logs\"),\n",
    "            (\"spark.deploy.mode\", \"cluster\"),\n",
    "        ]\n",
    "    )\n",
    "\n",
    "    ## check executor memory, taking into accout 10% of memory overhead (minimum 384 MiB)\n",
    "    CHECK = (CLUSTER_CORES_MAX / EXECUTOR_CORES) * (\n",
    "        EXECUTOR_MEMORY + max(EXECUTOR_MEMORY * 0.10, 0.403)\n",
    "    )\n",
    "\n",
    "    assert (\n",
    "        int(CHECK) <= CLUSTER_MEMORY_MAX\n",
    "    ), \"Executor memory larger than cluster total memory!\"\n",
    "\n",
    "    # Stop previous session that was just for loading cluster params\n",
    "    spark.stop()\n",
    "\n",
    "    # Start new session with above config, that has better resource handling\n",
    "    spark = SparkSession.builder.config(conf=conf)\\\n",
    "                                .getOrCreate()\n",
    "    sc = spark.sparkContext\n",
    "    EXECUTED = True\n",
    "    print(\"Success!\")\n"
   ]
  },
  {
   "cell_type": "markdown",
   "metadata": {},
   "source": [
    "## Loading the data"
   ]
  },
  {
   "cell_type": "code",
   "execution_count": 42,
   "metadata": {
    "execution": {
     "iopub.execute_input": "2023-10-10T18:52:02.548625Z",
     "iopub.status.busy": "2023-10-10T18:52:02.547852Z",
     "iopub.status.idle": "2023-10-10T18:52:08.840243Z",
     "shell.execute_reply": "2023-10-10T18:52:08.838468Z",
     "shell.execute_reply.started": "2023-10-10T18:52:02.548573Z"
    },
    "tags": []
   },
   "outputs": [],
   "source": [
    "business = spark.read.json('file:////work/yelp/yelp_academic_dataset_business.json')\n",
    "business = business.persist()\n",
    "\n",
    "users = spark.read.json(\"file:////work/yelp/yelp_academic_dataset_user.json\")\n",
    "reviews = spark.read.json('file:////work/yelp/yelp_academic_dataset_review.json')\n",
    "reviews = reviews.persist()\n",
    "\n",
    "checkin = spark.read.json('file:////work/yelp/yelp_academic_dataset_checkin.json')\n",
    "tips = spark.read.json('file:////work/yelp/yelp_academic_dataset_tip.json')"
   ]
  },
  {
   "cell_type": "code",
   "execution_count": 43,
   "metadata": {
    "colab": {
     "base_uri": "https://localhost:8080/"
    },
    "execution": {
     "iopub.execute_input": "2023-10-10T18:52:08.884908Z",
     "iopub.status.busy": "2023-10-10T18:52:08.884520Z",
     "iopub.status.idle": "2023-10-10T18:52:08.890205Z",
     "shell.execute_reply": "2023-10-10T18:52:08.889376Z",
     "shell.execute_reply.started": "2023-10-10T18:52:08.884887Z"
    },
    "executionInfo": {
     "elapsed": 752,
     "status": "ok",
     "timestamp": 1696332936092,
     "user": {
      "displayName": "Matteo Mormile",
      "userId": "17152934730321045546"
     },
     "user_tz": -120
    },
    "id": "pKpMXVz276pf",
    "outputId": "cdf8bfcd-4961-413c-f09b-449f1f03d461",
    "tags": []
   },
   "outputs": [
    {
     "name": "stdout",
     "output_type": "stream",
     "text": [
      "root\n",
      " |-- address: string (nullable = true)\n",
      " |-- attributes: struct (nullable = true)\n",
      " |    |-- AcceptsInsurance: string (nullable = true)\n",
      " |    |-- AgesAllowed: string (nullable = true)\n",
      " |    |-- Alcohol: string (nullable = true)\n",
      " |    |-- Ambience: string (nullable = true)\n",
      " |    |-- BYOB: string (nullable = true)\n",
      " |    |-- BYOBCorkage: string (nullable = true)\n",
      " |    |-- BestNights: string (nullable = true)\n",
      " |    |-- BikeParking: string (nullable = true)\n",
      " |    |-- BusinessAcceptsBitcoin: string (nullable = true)\n",
      " |    |-- BusinessAcceptsCreditCards: string (nullable = true)\n",
      " |    |-- BusinessParking: string (nullable = true)\n",
      " |    |-- ByAppointmentOnly: string (nullable = true)\n",
      " |    |-- Caters: string (nullable = true)\n",
      " |    |-- CoatCheck: string (nullable = true)\n",
      " |    |-- Corkage: string (nullable = true)\n",
      " |    |-- DietaryRestrictions: string (nullable = true)\n",
      " |    |-- DogsAllowed: string (nullable = true)\n",
      " |    |-- DriveThru: string (nullable = true)\n",
      " |    |-- GoodForDancing: string (nullable = true)\n",
      " |    |-- GoodForKids: string (nullable = true)\n",
      " |    |-- GoodForMeal: string (nullable = true)\n",
      " |    |-- HairSpecializesIn: string (nullable = true)\n",
      " |    |-- HappyHour: string (nullable = true)\n",
      " |    |-- HasTV: string (nullable = true)\n",
      " |    |-- Music: string (nullable = true)\n",
      " |    |-- NoiseLevel: string (nullable = true)\n",
      " |    |-- Open24Hours: string (nullable = true)\n",
      " |    |-- OutdoorSeating: string (nullable = true)\n",
      " |    |-- RestaurantsAttire: string (nullable = true)\n",
      " |    |-- RestaurantsCounterService: string (nullable = true)\n",
      " |    |-- RestaurantsDelivery: string (nullable = true)\n",
      " |    |-- RestaurantsGoodForGroups: string (nullable = true)\n",
      " |    |-- RestaurantsPriceRange2: string (nullable = true)\n",
      " |    |-- RestaurantsReservations: string (nullable = true)\n",
      " |    |-- RestaurantsTableService: string (nullable = true)\n",
      " |    |-- RestaurantsTakeOut: string (nullable = true)\n",
      " |    |-- Smoking: string (nullable = true)\n",
      " |    |-- WheelchairAccessible: string (nullable = true)\n",
      " |    |-- WiFi: string (nullable = true)\n",
      " |-- business_id: string (nullable = true)\n",
      " |-- categories: string (nullable = true)\n",
      " |-- city: string (nullable = true)\n",
      " |-- hours: struct (nullable = true)\n",
      " |    |-- Friday: string (nullable = true)\n",
      " |    |-- Monday: string (nullable = true)\n",
      " |    |-- Saturday: string (nullable = true)\n",
      " |    |-- Sunday: string (nullable = true)\n",
      " |    |-- Thursday: string (nullable = true)\n",
      " |    |-- Tuesday: string (nullable = true)\n",
      " |    |-- Wednesday: string (nullable = true)\n",
      " |-- is_open: long (nullable = true)\n",
      " |-- latitude: double (nullable = true)\n",
      " |-- longitude: double (nullable = true)\n",
      " |-- name: string (nullable = true)\n",
      " |-- postal_code: string (nullable = true)\n",
      " |-- review_count: long (nullable = true)\n",
      " |-- stars: double (nullable = true)\n",
      " |-- state: string (nullable = true)\n",
      "\n"
     ]
    }
   ],
   "source": [
    "business.printSchema()"
   ]
  },
  {
   "cell_type": "markdown",
   "metadata": {
    "id": "lyIG5TooKRFt"
   },
   "source": [
    "# 3.1 Specific DataFrame Queries"
   ]
  },
  {
   "cell_type": "markdown",
   "metadata": {
    "id": "EF_NkP_aLJqK"
   },
   "source": [
    "#### 1. Analyze business.json to find the total number of reviews for all businesses. The output should be in the form of a Spark Table/DataFrame with one value representing the count.\n"
   ]
  },
  {
   "cell_type": "code",
   "execution_count": 44,
   "metadata": {
    "colab": {
     "base_uri": "https://localhost:8080/"
    },
    "execution": {
     "iopub.execute_input": "2023-10-10T18:52:08.892755Z",
     "iopub.status.busy": "2023-10-10T18:52:08.892367Z",
     "iopub.status.idle": "2023-10-10T18:52:09.454431Z",
     "shell.execute_reply": "2023-10-10T18:52:09.452722Z",
     "shell.execute_reply.started": "2023-10-10T18:52:08.892733Z"
    },
    "executionInfo": {
     "elapsed": 820,
     "status": "ok",
     "timestamp": 1696332987079,
     "user": {
      "displayName": "Matteo Mormile",
      "userId": "17152934730321045546"
     },
     "user_tz": -120
    },
    "id": "2r85OBanG0i2",
    "outputId": "cc1debc1-5627-4b29-9a25-96bc59d7a5bd",
    "tags": []
   },
   "outputs": [
    {
     "name": "stdout",
     "output_type": "stream",
     "text": [
      "+-----------------+\n",
      "|sum(review_count)|\n",
      "+-----------------+\n",
      "|          6745508|\n",
      "+-----------------+\n",
      "\n"
     ]
    }
   ],
   "source": [
    "business.select(\"review_count\").groupBy().sum().show()"
   ]
  },
  {
   "cell_type": "markdown",
   "metadata": {},
   "source": [
    "#### 2. Analyze business.json to find all businesses that have received 5 stars and that have been reviewed by 500 or more users. The output should be in the form of DataFrame of (name, stars, review count)"
   ]
  },
  {
   "cell_type": "code",
   "execution_count": 45,
   "metadata": {
    "colab": {
     "base_uri": "https://localhost:8080/"
    },
    "execution": {
     "iopub.execute_input": "2023-10-10T18:52:09.457952Z",
     "iopub.status.busy": "2023-10-10T18:52:09.457114Z",
     "iopub.status.idle": "2023-10-10T18:52:09.993006Z",
     "shell.execute_reply": "2023-10-10T18:52:09.991237Z",
     "shell.execute_reply.started": "2023-10-10T18:52:09.457886Z"
    },
    "executionInfo": {
     "elapsed": 914,
     "status": "ok",
     "timestamp": 1696333075929,
     "user": {
      "displayName": "Matteo Mormile",
      "userId": "17152934730321045546"
     },
     "user_tz": -120
    },
    "id": "6nih5ivxHIPa",
    "outputId": "6ffe051e-56f0-4b8f-9d94-ec27585a3b6f",
    "tags": []
   },
   "outputs": [
    {
     "name": "stdout",
     "output_type": "stream",
     "text": [
      "+------------------+-----+------------+\n",
      "|              name|stars|review_count|\n",
      "+------------------+-----+------------+\n",
      "|   Blues City Deli|  5.0|         991|\n",
      "|          Tumerico|  5.0|         705|\n",
      "|Free Tours By Foot|  5.0|         769|\n",
      "|              Yats|  5.0|         623|\n",
      "| SUGARED + BRONZED|  5.0|         513|\n",
      "+------------------+-----+------------+\n",
      "only showing top 5 rows\n",
      "\n"
     ]
    }
   ],
   "source": [
    "business_5stars_500reviews = business \\\n",
    ".filter((business.stars == 5.0) & (business.review_count > 499)) \\\n",
    ".select(business.name, business.stars, business.review_count)\n",
    "\n",
    "business_5stars_500reviews.show(5)"
   ]
  },
  {
   "cell_type": "markdown",
   "metadata": {
    "id": "PtVwajW9H4b8",
    "tags": []
   },
   "source": [
    "#### 3. Analyze user.json to find the influencers who have written more than 1000 reviews. The output should be in the form of a Spark Table/DataFrame of user id."
   ]
  },
  {
   "cell_type": "code",
   "execution_count": 46,
   "metadata": {
    "execution": {
     "iopub.execute_input": "2023-10-10T18:52:09.995317Z",
     "iopub.status.busy": "2023-10-10T18:52:09.994755Z",
     "iopub.status.idle": "2023-10-10T18:52:10.956890Z",
     "shell.execute_reply": "2023-10-10T18:52:10.954985Z",
     "shell.execute_reply.started": "2023-10-10T18:52:09.995279Z"
    },
    "tags": []
   },
   "outputs": [
    {
     "name": "stdout",
     "output_type": "stream",
     "text": [
      "+--------------------+\n",
      "|             user_id|\n",
      "+--------------------+\n",
      "|Hi10sGSZNxQH3NLyW...|\n",
      "|8k3aO-mPeyhbR5HUu...|\n",
      "|hWDybu_KvYLSdEFzG...|\n",
      "|RtGqdDBvvBCjcu5dU...|\n",
      "|P5bUL3Engv-2z6kKo...|\n",
      "+--------------------+\n",
      "only showing top 5 rows\n",
      "\n"
     ]
    }
   ],
   "source": [
    "influencers = users.filter(users.review_count > 1000)\\\n",
    ".orderBy(col(\"review_count\").desc())\n",
    "\n",
    "influencers.select(\"user_id\").show(5)"
   ]
  },
  {
   "cell_type": "markdown",
   "metadata": {},
   "source": [
    "#### 4. Analyze review.json, business.json, and a view created from your answer to Q3 to find the businesses that have been reviewed by more than 5 influencer users."
   ]
  },
  {
   "cell_type": "code",
   "execution_count": 47,
   "metadata": {
    "execution": {
     "iopub.execute_input": "2023-10-10T18:52:11.160740Z",
     "iopub.status.busy": "2023-10-10T18:52:11.160544Z",
     "iopub.status.idle": "2023-10-10T18:52:15.225389Z",
     "shell.execute_reply": "2023-10-10T18:52:15.223491Z",
     "shell.execute_reply.started": "2023-10-10T18:52:11.160723Z"
    },
    "tags": []
   },
   "outputs": [
    {
     "name": "stdout",
     "output_type": "stream",
     "text": [
      "+--------------------+-------------------+\n",
      "|         business_id|reviewsByInfluencer|\n",
      "+--------------------+-------------------+\n",
      "|ytynqOUb3hjKeJfRj...|                238|\n",
      "|Eb1XmmLWyt_way5NN...|                228|\n",
      "|-QI8Qi8XWH3D8y8et...|                214|\n",
      "|_ab50qdWOk0DdB6XO...|                202|\n",
      "|PP3BBaVxZLcJU54uP...|                178|\n",
      "+--------------------+-------------------+\n",
      "only showing top 5 rows\n",
      "\n"
     ]
    }
   ],
   "source": [
    "# take only reviews made by influencer\n",
    "reviews_influencer = influencers.join(reviews, on=\"user_id\", how=\"inner\") \n",
    "# attach business info to reviews\n",
    "reviews_with_business = reviews_influencer.join(business, on=\"business_id\", how=\"inner\")\n",
    "\n",
    "result = reviews_with_business.groupBy(\"business_id\") \\\n",
    ".agg(count(\"user_id\").alias(\"reviewsByInfluencer\")) \\\n",
    ".filter(\"reviewsByInfluencer > 5\") \\\n",
    ".select(\"business_id\", \"reviewsByInfluencer\")\n",
    "\n",
    "result.orderBy(desc(\"reviewsByInfluencer\")).show(5)"
   ]
  },
  {
   "cell_type": "markdown",
   "metadata": {},
   "source": [
    "#### 5. Analyze review.json and user.json to find an ordered list of users based on the aver\u0002age star counts they have given in all their reviews.\n"
   ]
  },
  {
   "cell_type": "code",
   "execution_count": 48,
   "metadata": {
    "execution": {
     "iopub.execute_input": "2023-10-10T18:52:15.358848Z",
     "iopub.status.busy": "2023-10-10T18:52:15.358161Z",
     "iopub.status.idle": "2023-10-10T18:52:19.539233Z",
     "shell.execute_reply": "2023-10-10T18:52:19.537593Z",
     "shell.execute_reply.started": "2023-10-10T18:52:15.358796Z"
    },
    "executionInfo": {
     "elapsed": 439,
     "status": "ok",
     "timestamp": 1696333112602,
     "user": {
      "displayName": "Matteo Mormile",
      "userId": "17152934730321045546"
     },
     "user_tz": -120
    },
    "id": "GYcyrQokLbJc",
    "tags": []
   },
   "outputs": [
    {
     "name": "stdout",
     "output_type": "stream",
     "text": [
      "+--------+---------+\n",
      "|    name|avg_stars|\n",
      "+--------+---------+\n",
      "|Brittany|      5.0|\n",
      "|     pat|      5.0|\n",
      "|   Jared|      5.0|\n",
      "|   Erwin|      5.0|\n",
      "|  Surfer|      5.0|\n",
      "+--------+---------+\n",
      "only showing top 5 rows\n",
      "\n"
     ]
    }
   ],
   "source": [
    "# join reviews with user info\n",
    "reviews_user_info = reviews.join(users, on=\"user_id\", how=\"inner\")\n",
    "\n",
    "result = reviews_user_info.groupBy(\"user_id\",\"name\") \\\n",
    ".agg(avg(\"stars\").alias(\"avg_stars\")) \\\n",
    ".select(\"name\", \"avg_stars\")\n",
    "\n",
    "result.orderBy(desc(\"avg_stars\")).show(5)"
   ]
  },
  {
   "cell_type": "markdown",
   "metadata": {
    "id": "K6Wq-dlqKWdr"
   },
   "source": [
    "# 3.2 Authenticity Study"
   ]
  },
  {
   "cell_type": "code",
   "execution_count": 49,
   "metadata": {
    "execution": {
     "iopub.execute_input": "2023-10-10T18:52:19.649769Z",
     "iopub.status.busy": "2023-10-10T18:52:19.649305Z",
     "iopub.status.idle": "2023-10-10T18:52:20.487643Z",
     "shell.execute_reply": "2023-10-10T18:52:20.485931Z",
     "shell.execute_reply.started": "2023-10-10T18:52:19.649737Z"
    },
    "tags": []
   },
   "outputs": [
    {
     "name": "stdout",
     "output_type": "stream",
     "text": [
      "Business_explode dataframe\n",
      "+--------------------+------------+-------------+-----+--------------------+\n",
      "|         business_id|review_count|         city|state|   single_categories|\n",
      "+--------------------+------------+-------------+-----+--------------------+\n",
      "|Pns2l4eNsfO8kk83d...|           7|Santa Barbara|   CA|             Doctors|\n",
      "|Pns2l4eNsfO8kk83d...|           7|Santa Barbara|   CA| Traditional Chin...|\n",
      "|Pns2l4eNsfO8kk83d...|           7|Santa Barbara|   CA| Naturopathic/Hol...|\n",
      "|Pns2l4eNsfO8kk83d...|           7|Santa Barbara|   CA|         Acupuncture|\n",
      "|Pns2l4eNsfO8kk83d...|           7|Santa Barbara|   CA|    Health & Medical|\n",
      "|Pns2l4eNsfO8kk83d...|           7|Santa Barbara|   CA|       Nutritionists|\n",
      "|mpf3x-BjTdTEA3yCZ...|          15|       Affton|   MO|    Shipping Centers|\n",
      "|mpf3x-BjTdTEA3yCZ...|          15|       Affton|   MO|      Local Services|\n",
      "|mpf3x-BjTdTEA3yCZ...|          15|       Affton|   MO|            Notaries|\n",
      "|mpf3x-BjTdTEA3yCZ...|          15|       Affton|   MO|     Mailbox Centers|\n",
      "|mpf3x-BjTdTEA3yCZ...|          15|       Affton|   MO|   Printing Services|\n",
      "|tUFrWirKiKi_TAnsV...|          22|       Tucson|   AZ|   Department Stores|\n",
      "|tUFrWirKiKi_TAnsV...|          22|       Tucson|   AZ|            Shopping|\n",
      "|tUFrWirKiKi_TAnsV...|          22|       Tucson|   AZ|             Fashion|\n",
      "|tUFrWirKiKi_TAnsV...|          22|       Tucson|   AZ|       Home & Garden|\n",
      "|tUFrWirKiKi_TAnsV...|          22|       Tucson|   AZ|         Electronics|\n",
      "|tUFrWirKiKi_TAnsV...|          22|       Tucson|   AZ|    Furniture Stores|\n",
      "|MTSW4McQd7CbVtyjq...|          80| Philadelphia|   PA|         Restaurants|\n",
      "|MTSW4McQd7CbVtyjq...|          80| Philadelphia|   PA|                Food|\n",
      "|MTSW4McQd7CbVtyjq...|          80| Philadelphia|   PA|          Bubble Tea|\n",
      "+--------------------+------------+-------------+-----+--------------------+\n",
      "only showing top 20 rows\n",
      "\n",
      "+--------------------+\n",
      "|   single_categories|\n",
      "+--------------------+\n",
      "|             Doctors|\n",
      "| Traditional Chin...|\n",
      "| Naturopathic/Hol...|\n",
      "|         Acupuncture|\n",
      "|    Health & Medical|\n",
      "|       Nutritionists|\n",
      "|    Shipping Centers|\n",
      "|      Local Services|\n",
      "|            Notaries|\n",
      "|     Mailbox Centers|\n",
      "|   Printing Services|\n",
      "|   Department Stores|\n",
      "|            Shopping|\n",
      "|             Fashion|\n",
      "|       Home & Garden|\n",
      "|         Electronics|\n",
      "|    Furniture Stores|\n",
      "|         Restaurants|\n",
      "|                Food|\n",
      "|          Bubble Tea|\n",
      "+--------------------+\n",
      "only showing top 20 rows\n",
      "\n"
     ]
    }
   ],
   "source": [
    "from pyspark.sql.functions import *\n",
    "from pyspark.sql.types import StructType, StructField, StringType, FloatType, ArrayType, BooleanType\n",
    "\n",
    "authentic_synonyms = [\"real\", \"true\", \"legitimate\", \"original\", \"faithful\",\"authentic\"]\n",
    "\n",
    "international_cuisine = [\n",
    "    \"Mexican\", \"Italian\", \"Chinese\", \"Japanese\", \"Indian\", \"Thai\", \"Greek\", \"Spanish\", \"French\", \"Korean\", \"Vietnamese\", \"German\", \"Cuban\", \"Brazilian\", \"Russian\", \"American\",\n",
    "    \"Mediterranean\", \"Irish\", \"Middle Eastern\", \"Cajun\", \"Tex-Mex\", \"Soul Food\", \"Jewish\", \"Southern\", \"Caribbean\", \"Hawaiian\", \"Filipino\", \"Peruvian\", \"Argentinian\",\n",
    "    \"Polish\", \"Swedish\", \"Czech\", \"African\", \"Haitian\", \"Colombian\", \"Venezuelan\", \"Chilean\", \"Turkish\", \"Armenian\", \"Portuguese\", \"Burmese\", \"Afghan\", \"Ethiopian\",\n",
    "    \"Nigerian\", \"Kenyan\", \"South African\", \"Moroccan\", \"Egyptian\", \"Lebanese\", \"Syrian\", \"Palestinian\", \"Jordanian\", \"Iranian\", \"Pakistani\", \"Bangladeshi\", \"Sri Lankan\",\n",
    "]\n",
    "# retrive data\n",
    "business = spark.read.json('file:////work/yelp/yelp_academic_dataset_business.json')\n",
    "business = business.persist()\n",
    "\n",
    "# Tranform from string to array values\n",
    "business_array = business.withColumn(\"categories\", split(business[\"categories\"], \",\").cast(ArrayType(StringType())))\n",
    "\n",
    "# Explode array categories\n",
    "business_explode = business_array.select(\"business_id\",\"review_count\",\"city\",\"state\",explode(business_array[\"categories\"]).alias(\"single_categories\"))\n",
    "print(\"Business_explode dataframe\")\n",
    "business_explode.show()\n",
    "\n",
    "# Remove notes between brackets for American one (Traditional/New)\n",
    "business_df = business_explode.select(regexp_replace(col(\"single_categories\"), r\"\\s\\([^)]*\\)\", \"\").alias(\"single_categories\"))\n",
    "business_df = business_df.persist()\n",
    "business_df.show()"
   ]
  },
  {
   "cell_type": "markdown",
   "metadata": {},
   "source": [
    "### 3.2.1 Data Exploration\n",
    "Look in the data for the use of \"authenticity language\", as defined in the Eater New York article"
   ]
  },
  {
   "cell_type": "markdown",
   "metadata": {},
   "source": [
    "#### What is the percentage of reviews containing a variant of the word \"authentic\""
   ]
  },
  {
   "cell_type": "code",
   "execution_count": 50,
   "metadata": {
    "colab": {
     "base_uri": "https://localhost:8080/"
    },
    "execution": {
     "iopub.execute_input": "2023-10-10T18:52:20.536972Z",
     "iopub.status.busy": "2023-10-10T18:52:20.489816Z",
     "iopub.status.idle": "2023-10-10T18:52:23.036651Z",
     "shell.execute_reply": "2023-10-10T18:52:23.003203Z",
     "shell.execute_reply.started": "2023-10-10T18:52:20.536889Z"
    },
    "executionInfo": {
     "elapsed": 1673,
     "status": "ok",
     "timestamp": 1696332776110,
     "user": {
      "displayName": "Matteo Mormile",
      "userId": "17152934730321045546"
     },
     "user_tz": -120
    },
    "id": "bsW39IP5KWKJ",
    "outputId": "daf12444-17d0-4379-a4ab-ff8445cb1da7",
    "tags": []
   },
   "outputs": [
    {
     "name": "stdout",
     "output_type": "stream",
     "text": [
      "+--------------------+-------+\n",
      "|   single_categories|  Total|\n",
      "+--------------------+-------+\n",
      "|         Restaurants|3411483|\n",
      "|                Food|1412065|\n",
      "|           Nightlife|1265626|\n",
      "|                Bars|1214711|\n",
      "|         Restaurants|1149796|\n",
      "| American (Tradit...| 806238|\n",
      "|      American (New)| 789932|\n",
      "|  Breakfast & Brunch| 703166|\n",
      "|          Sandwiches| 547171|\n",
      "| Event Planning &...| 486458|\n",
      "|             Seafood| 476841|\n",
      "|            Shopping| 404641|\n",
      "|             Burgers| 350378|\n",
      "|               Pizza| 350283|\n",
      "|        Coffee & Tea| 347102|\n",
      "|                Food| 340216|\n",
      "|             Italian| 317018|\n",
      "|             Mexican| 300417|\n",
      "|       Cocktail Bars| 283575|\n",
      "|               Salad| 277189|\n",
      "+--------------------+-------+\n",
      "only showing top 20 rows\n",
      "\n",
      "+--------------------+--------+\n",
      "|   single_categories|Filtered|\n",
      "+--------------------+--------+\n",
      "|         Restaurants|  792350|\n",
      "|                Food|  322150|\n",
      "|           Nightlife|  296132|\n",
      "|                Bars|  283732|\n",
      "|         Restaurants|  268838|\n",
      "|      American (New)|  182038|\n",
      "| American (Tradit...|  174340|\n",
      "|  Breakfast & Brunch|  152033|\n",
      "|          Sandwiches|  118283|\n",
      "| Event Planning &...|  113205|\n",
      "|             Seafood|  102559|\n",
      "|            Shopping|   88905|\n",
      "|             Mexican|   78592|\n",
      "|               Pizza|   77542|\n",
      "|                Food|   77251|\n",
      "|        Coffee & Tea|   74693|\n",
      "|             Burgers|   73724|\n",
      "|             Italian|   73217|\n",
      "|       Cocktail Bars|   67199|\n",
      "| Arts & Entertain...|   66708|\n",
      "+--------------------+--------+\n",
      "only showing top 20 rows\n",
      "\n",
      "+-----------------+------+--------+----------+\n",
      "|single_categories| Total|Filtered|percentage|\n",
      "+-----------------+------+--------+----------+\n",
      "|           Korean| 13739|    3909|     28.45|\n",
      "|          Mexican|115890|   32304|     27.87|\n",
      "|       Vietnamese| 25764|    7005|     27.19|\n",
      "|           Indian| 18279|    4778|     26.14|\n",
      "|             Thai| 38624|    9969|     25.81|\n",
      "|           French| 17611|    4488|     25.48|\n",
      "|    Mediterranean| 29271|    7419|     25.35|\n",
      "|          Tex-Mex| 15642|    3890|     24.87|\n",
      "|         Japanese| 50929|   12647|     24.83|\n",
      "|            Greek| 16443|    4011|     24.39|\n",
      "|          Italian|105512|   25183|     23.87|\n",
      "|          Chinese| 52552|   12326|     23.45|\n",
      "|         Southern| 31719|    7083|     22.33|\n",
      "+-----------------+------+--------+----------+\n",
      "\n"
     ]
    }
   ],
   "source": [
    "# reviews_per_categories without filter\n",
    "reviews_per_categories = business_explode.groupBy(\"single_categories\") \\\n",
    ".agg(sum(\"review_count\").alias(\"Total\")).orderBy(desc(\"Total\"))\n",
    "reviews_per_categories.show()\n",
    "\n",
    "# with filter\n",
    "auth_reviews = reviews.filter(col(\"text\").rlike(\"|\".join(authentic_synonyms))).select(\"business_id\") # reduce df size\n",
    "\n",
    "auth_reviews_per_categories = auth_reviews.join(business_explode, auth_reviews[\"business_id\"] == business_explode[\"business_id\"], \"right\") \\\n",
    ".select(business_explode.single_categories) \\\n",
    ".groupBy(\"single_categories\") \\\n",
    ".agg(count(\"single_categories\").alias(\"Filtered\")).orderBy(desc(\"Filtered\"))\n",
    "auth_reviews_per_categories = auth_reviews_per_categories.persist()\n",
    "auth_reviews_per_categories.show()\n",
    "\n",
    "# final df\n",
    "joined_df = reviews_per_categories.join(auth_reviews_per_categories, \"single_categories\", \"inner\")\n",
    "\n",
    "# calculate the percentage\n",
    "joined_df = joined_df.filter(col(\"single_categories\").isin(international_cuisine)) \\\n",
    ".withColumn(\"percentage\", expr(\"round((Filtered / Total) * 100, 2)\")).filter(\"Total > 10000\").orderBy(desc(\"percentage\"))\n",
    "joined_df.show()"
   ]
  },
  {
   "cell_type": "markdown",
   "metadata": {},
   "source": [
    "#### How many reviews contain the string \"legitimate\" grouped by type of cuisine?"
   ]
  },
  {
   "cell_type": "code",
   "execution_count": 51,
   "metadata": {
    "execution": {
     "iopub.execute_input": "2023-10-10T18:52:23.160309Z",
     "iopub.status.busy": "2023-10-10T18:52:23.160118Z",
     "iopub.status.idle": "2023-10-10T18:52:25.776393Z",
     "shell.execute_reply": "2023-10-10T18:52:25.774962Z",
     "shell.execute_reply.started": "2023-10-10T18:52:23.160292Z"
    },
    "tags": []
   },
   "outputs": [
    {
     "name": "stdout",
     "output_type": "stream",
     "text": [
      "cuisine present in our businesses\n",
      "+--------------------+--------------------+\n",
      "|         business_id|single_categories_wa|\n",
      "+--------------------+--------------------+\n",
      "|eEOYSgkmpB90uNA7l...|          Vietnamese|\n",
      "|il_Ro8jwPlHresjw9...|            American|\n",
      "|ROeacJQwBeh05Rqg7...|              Korean|\n",
      "|8rb-3VYXE37IZix4y...|            American|\n",
      "|aCDY7vXYMs54EbYuQ...|            American|\n",
      "|x9K0RfZaT_zlw6Dkl...|             Italian|\n",
      "|1MeIwdbTnZOBFCKOr...|            American|\n",
      "|Dy91wdWkwtI_qgjAI...|             Mexican|\n",
      "|aNtKyc2rr-uK5cqzY...|             Mexican|\n",
      "|Ms5xG8i4p80KSMcF3...|             Italian|\n",
      "|7Du9oW73YcYFmXdtU...|            Japanese|\n",
      "|vPcfJ3rm3NpdqVDod...|            Japanese|\n",
      "|ZU6NodDOWaabGkeNp...|            American|\n",
      "|8c0r7olQSYGcws0bT...|            Hawaiian|\n",
      "|4IcB3QyMEA85UTWFK...|            American|\n",
      "|YR0nwxBOKk6DiLHNI...|             Italian|\n",
      "|jcL_qaGJiappzpnn-...|             Chinese|\n",
      "|VbItL6RDULtnw4YvB...|             Tex-Mex|\n",
      "|W57cR9a7XP6RX56MS...|             Mexican|\n",
      "|JF7iyI3wA_AKi_iXO...|             Italian|\n",
      "+--------------------+--------------------+\n",
      "only showing top 20 rows\n",
      "\n",
      "+--------------------+---------------------------------------+\n",
      "|single_categories_wa|Number of reviews contains \"legimitate\"|\n",
      "+--------------------+---------------------------------------+\n",
      "|            American|                                    188|\n",
      "|             Mexican|                                     85|\n",
      "|             Italian|                                     73|\n",
      "|            Japanese|                                     36|\n",
      "|             Chinese|                                     34|\n",
      "|                Thai|                                     29|\n",
      "|             Tex-Mex|                                     16|\n",
      "|          Vietnamese|                                     15|\n",
      "|            Southern|                                     14|\n",
      "|       Mediterranean|                                     12|\n",
      "|              Korean|                                     12|\n",
      "|              French|                                     10|\n",
      "|              German|                                      6|\n",
      "|      Middle Eastern|                                      6|\n",
      "|              Indian|                                      5|\n",
      "|             Spanish|                                      5|\n",
      "|               Greek|                                      4|\n",
      "|           Soul Food|                                      4|\n",
      "|           Pakistani|                                      3|\n",
      "|           Caribbean|                                      3|\n",
      "+--------------------+---------------------------------------+\n",
      "only showing top 20 rows\n",
      "\n"
     ]
    }
   ],
   "source": [
    "# Filter only cuisine restaurant\n",
    "# remove extra from brackets for america cuisine\n",
    "business_cuisine_wa = business_explode.select(\"*\",regexp_replace(col(\"single_categories\"), r\"\\s\\([^)]*\\)\", \"\").alias(\"single_categories_wa\"))\n",
    "business_cuisine_wa = business_cuisine_wa.filter(col(\"single_categories_wa\").isin(international_cuisine)).select(\"business_id\",\"single_categories_wa\")\n",
    "print(\"cuisine present in our businesses\")\n",
    "business_cuisine_wa.show()\n",
    "business_cuisine_wa = business_cuisine_wa.persist()\n",
    "\n",
    "business_cuisine_wa.join(reviews, business_cuisine_wa[\"business_id\"] == reviews[\"business_id\"], \"right\") \\\n",
    ".filter(\"text LIKE '%legitimate%'\") \\\n",
    ".groupBy(\"single_categories_wa\") \\\n",
    ".agg(count(\"single_categories_wa\").alias(\"Number of reviews contains \\\"legimitate\\\"\")).orderBy(desc(\"Number of reviews contains \\\"legimitate\\\"\")).show()"
   ]
  },
  {
   "cell_type": "markdown",
   "metadata": {},
   "source": [
    "### Is there a difference in the amount of authenticity language used in the different areas?"
   ]
  },
  {
   "cell_type": "code",
   "execution_count": 67,
   "metadata": {
    "execution": {
     "iopub.execute_input": "2023-10-10T19:24:59.427414Z",
     "iopub.status.busy": "2023-10-10T19:24:59.426681Z",
     "iopub.status.idle": "2023-10-10T19:25:00.890097Z",
     "shell.execute_reply": "2023-10-10T19:25:00.888737Z",
     "shell.execute_reply.started": "2023-10-10T19:24:59.427351Z"
    },
    "tags": []
   },
   "outputs": [
    {
     "name": "stdout",
     "output_type": "stream",
     "text": [
      "Every restaurant is repeated for the number of authentich reviews\n",
      "+--------------------+------------+-------+-----+--------------------+\n",
      "|         business_id|review_count|   city|state|single_categories_wa|\n",
      "+--------------------+------------+-------+-----+--------------------+\n",
      "|--ZVrH2X2QXBFdCil...|          32|Ardmore|   PA|            American|\n",
      "|--ZVrH2X2QXBFdCil...|          32|Ardmore|   PA|            American|\n",
      "|--ZVrH2X2QXBFdCil...|          32|Ardmore|   PA|            American|\n",
      "|--ZVrH2X2QXBFdCil...|          32|Ardmore|   PA|            American|\n",
      "|--ZVrH2X2QXBFdCil...|          32|Ardmore|   PA|            American|\n",
      "|--ZVrH2X2QXBFdCil...|          32|Ardmore|   PA|            American|\n",
      "|--ZVrH2X2QXBFdCil...|          32|Ardmore|   PA|            American|\n",
      "|--ZVrH2X2QXBFdCil...|          32|Ardmore|   PA|            American|\n",
      "|--ZVrH2X2QXBFdCil...|          32|Ardmore|   PA|            American|\n",
      "|--ZVrH2X2QXBFdCil...|          32|Ardmore|   PA|            American|\n",
      "|--ZVrH2X2QXBFdCil...|          32|Ardmore|   PA|            American|\n",
      "|-0FX23yAacC4bbLaG...|         155|Newtown|   PA|            American|\n",
      "|-0FX23yAacC4bbLaG...|         155|Newtown|   PA|            American|\n",
      "|-0FX23yAacC4bbLaG...|         155|Newtown|   PA|            American|\n",
      "|-0FX23yAacC4bbLaG...|         155|Newtown|   PA|            American|\n",
      "|-0FX23yAacC4bbLaG...|         155|Newtown|   PA|            American|\n",
      "|-0FX23yAacC4bbLaG...|         155|Newtown|   PA|            American|\n",
      "|-0FX23yAacC4bbLaG...|         155|Newtown|   PA|            American|\n",
      "|-0FX23yAacC4bbLaG...|         155|Newtown|   PA|            American|\n",
      "|-0FX23yAacC4bbLaG...|         155|Newtown|   PA|            American|\n",
      "+--------------------+------------+-------+-----+--------------------+\n",
      "only showing top 20 rows\n",
      "\n"
     ]
    },
    {
     "data": {
      "text/plain": [
       "72821"
      ]
     },
     "execution_count": 67,
     "metadata": {},
     "output_type": "execute_result"
    }
   ],
   "source": [
    "# Explore differente areas of America\n",
    "auth_reviews = reviews.filter(col(\"text\").rlike(\"|\".join(authentic_synonyms))).select(\"business_id\")\n",
    "auth_reviews = auth_reviews.persist()\n",
    "\n",
    "business_america = business_explode.select(\"*\",regexp_replace(col(\"single_categories\"), r\"\\s\\([^)]*\\)\", \"\").alias(\"single_categories_wa\")) \\\n",
    ".filter(col(\"single_categories_wa\") == \"American\") \\\n",
    ".drop(\"single_categories\")\n",
    "business_america = business_america.persist()\n",
    "\n",
    "result = business_america.join(auth_reviews, business_america[\"business_id\"] == auth_reviews[\"business_id\"], \"inner\")\n",
    "result = result.drop(auth_reviews.business_id)\n",
    "print(\"Every restaurant is repeated for the number of authentich reviews\")\n",
    "result.orderBy(\"business_id\").show()\n",
    "result.count()"
   ]
  },
  {
   "cell_type": "code",
   "execution_count": 53,
   "metadata": {
    "execution": {
     "iopub.execute_input": "2023-10-10T18:52:28.676172Z",
     "iopub.status.busy": "2023-10-10T18:52:28.675506Z",
     "iopub.status.idle": "2023-10-10T18:52:30.142437Z",
     "shell.execute_reply": "2023-10-10T18:52:30.140794Z",
     "shell.execute_reply.started": "2023-10-10T18:52:28.676121Z"
    },
    "tags": []
   },
   "outputs": [
    {
     "name": "stdout",
     "output_type": "stream",
     "text": [
      "+--------+-------------------------------------+\n",
      "|Position|Number of authentic reviews per state|\n",
      "+--------+-------------------------------------+\n",
      "| Central|                                46626|\n",
      "|    East|                                13972|\n",
      "|    West|                                11563|\n",
      "+--------+-------------------------------------+\n",
      "\n"
     ]
    }
   ],
   "source": [
    "usStates = [\n",
    "  (\"AL\", \"East\"), (\"AK\", \"West\"), (\"AZ\", \"West\"), (\"AR\", \"Central\"), (\"CA\", \"West\"),\n",
    "  (\"CO\", \"West\"), (\"CT\", \"East\"), (\"DE\", \"East\"), (\"FL\", \"East\"), (\"GA\", \"East\"),\n",
    "  (\"HI\", \"West\"), (\"ID\", \"West\"), (\"IL\", \"Central\"), (\"IN\", \"Central\"), (\"IA\", \"Central\"),\n",
    "  (\"KS\", \"Central\"), (\"KY\", \"Central\"), (\"LA\", \"Central\"), (\"ME\", \"East\"), (\"MD\", \"East\"),\n",
    "  (\"MA\", \"East\"), (\"MI\", \"Central\"), (\"MN\", \"Central\"), (\"MS\", \"Central\"), (\"MO\", \"Central\"),\n",
    "  (\"MT\", \"West\"), (\"NE\", \"Central\"), (\"NV\", \"West\"), (\"NH\", \"East\"), (\"NJ\", \"East\"),\n",
    "  (\"NM\", \"West\"), (\"NY\", \"East\"), (\"NC\", \"East\"), (\"ND\", \"Central\"), (\"OH\", \"Central\"),\n",
    "  (\"OK\", \"Central\"), (\"OR\", \"West\"), (\"PA\", \"Central\"), (\"RI\", \"East\"), (\"SC\", \"East\"),\n",
    "  (\"SD\", \"Central\"), (\"TN\", \"Central\"), (\"TX\", \"Central\"), (\"UT\", \"West\"), (\"VT\", \"East\"),\n",
    "  (\"VA\", \"East\"), (\"WA\", \"West\"), (\"WV\", \"Central\"), (\"WI\", \"Central\"), (\"WY\", \"West\")\n",
    "]\n",
    "\n",
    "schema = StructType([\n",
    "    StructField(\"State\", StringType(), True),\n",
    "    StructField(\"Position\", StringType(), True)\n",
    "])\n",
    "df = spark.createDataFrame(usStates, schema=schema)\n",
    "\n",
    "result.join(df, result[\"state\"] == df[\"State\"], \"inner\") \\\n",
    ".groupBy(\"Position\") \\\n",
    ".agg(count(\"business_id\").alias(\"Number of authentic reviews per state\")).orderBy(desc(\"Number of authentic reviews per state\")).show()\n"
   ]
  },
  {
   "cell_type": "markdown",
   "metadata": {
    "id": "tVZAvlEOLAE0"
   },
   "source": [
    "### 3.2.2\n",
    "Can you identify a difference in the relationship between authenticity language and typically negative words, in restaurants serving south american or asian cuisine compared to restaurants serving european cuisine? And to what degree?"
   ]
  },
  {
   "cell_type": "code",
   "execution_count": 54,
   "metadata": {
    "execution": {
     "iopub.execute_input": "2023-10-10T18:52:30.145383Z",
     "iopub.status.busy": "2023-10-10T18:52:30.144650Z",
     "iopub.status.idle": "2023-10-10T18:52:30.236709Z",
     "shell.execute_reply": "2023-10-10T18:52:30.176749Z",
     "shell.execute_reply.started": "2023-10-10T18:52:30.145330Z"
    },
    "tags": []
   },
   "outputs": [],
   "source": [
    "# europe and not cuisine\n",
    "cuisine_data = [\n",
    "    (\"Italian\", \"European\"), (\"Greek\", \"European\"), (\"Spanish\", \"European\"), (\"French\", \"European\"), (\"German\", \"European\"), (\"Russian\", \"European\"), (\"Irish\", \"European\"), (\"American\", \"North American\"), (\"Polish\", \"European\"),\n",
    "    (\"Swedish\", \"European\"), (\"Czech\", \"European\"), (\"Armenian\", \"European\"), (\"Portuguese\", \"European\"), (\"Mexican\", \"North American\"), (\"Chinese\", \"Asian\"), (\"Japanese\", \"Asian\"), (\"Indian\", \"Asian\"),\n",
    "    (\"Thai\", \"Asian\"), (\"Korean\", \"Asian\"), (\"Vietnamese\", \"Asian\"), (\"Cuban\", \"North American\"), (\"Brazilian\", \"South American\"), (\"Filipino\", \"Asian\"), (\"Peruvian\", \"South American\"), (\"Argentinian\", \"South American\"),\n",
    "    (\"Mediterranean\", \"European\"), (\"Middle Eastern\", \"Middle Eastern\"), (\"Cajun\", \"North American\"), (\"Tex-Mex\", \"North American\"), (\"Soul Food\", \"North American\"), (\"Jewish\", \"Middle Eastern\"), (\"Southern\", \"North American\"),\n",
    "    (\"Caribbean\", \"North American\"), (\"Hawaiian\", \"North American\"), (\"Burmese\", \"Asian\"), (\"Afghan\", \"Asian\"), (\"Ethiopian\", \"African\"), (\"Nigerian\", \"African\"), (\"Kenyan\", \"African\"), (\"South African\", \"African\"),\n",
    "    (\"Moroccan\", \"African\"), (\"Egyptian\", \"African\"), (\"Lebanese\", \"Middle Eastern\"), (\"Syrian\", \"Middle Eastern\"), (\"Palestinian\", \"Middle Eastern\"), (\"Jordanian\", \"Middle Eastern\"), (\"Iranian\", \"Middle Eastern\"), (\"Pakistani\", \"Asian\"),\n",
    "    (\"Bangladeshi\", \"Asian\"), (\"Sri Lankan\", \"Asian\")\n",
    "]\n",
    "\n",
    "schema = StructType([\n",
    "    StructField(\"Cuisine\", StringType(), True),\n",
    "    StructField(\"Continent\", StringType(), True)\n",
    "])\n",
    "df_cuisine = spark.createDataFrame(cuisine_data, schema=schema)\n",
    "\n",
    "#bad words\n",
    "bad_words = [\"dirty\", \"kitsch\", \"rude\"]"
   ]
  },
  {
   "cell_type": "code",
   "execution_count": 55,
   "metadata": {
    "execution": {
     "iopub.execute_input": "2023-10-10T18:52:30.239519Z",
     "iopub.status.busy": "2023-10-10T18:52:30.238795Z",
     "iopub.status.idle": "2023-10-10T18:52:31.371987Z",
     "shell.execute_reply": "2023-10-10T18:52:31.370313Z",
     "shell.execute_reply.started": "2023-10-10T18:52:30.239466Z"
    },
    "tags": []
   },
   "outputs": [
    {
     "name": "stdout",
     "output_type": "stream",
     "text": [
      "+--------------------+------------+----------------+-----+--------------------+\n",
      "|         business_id|review_count|            city|state|single_categories_wa|\n",
      "+--------------------+------------+----------------+-----+--------------------+\n",
      "|eEOYSgkmpB90uNA7l...|          10|       Tampa Bay|   FL|          Vietnamese|\n",
      "|il_Ro8jwPlHresjw9...|          28|    Indianapolis|   IN|            American|\n",
      "|ROeacJQwBeh05Rqg7...|         205|    Philadelphia|   PA|              Korean|\n",
      "|8rb-3VYXE37IZix4y...|          29|    Williamstown|   NJ|            American|\n",
      "|aCDY7vXYMs54EbYuQ...|          25|       Glenolden|   PA|            American|\n",
      "|x9K0RfZaT_zlw6Dkl...|           9|          Tucson|   AZ|             Italian|\n",
      "|1MeIwdbTnZOBFCKOr...|          80|     Saint Louis|   MO|            American|\n",
      "|Dy91wdWkwtI_qgjAI...|          23|      Wilmington|   DE|             Mexican|\n",
      "|aNtKyc2rr-uK5cqzY...|          19|           Largo|   FL|             Mexican|\n",
      "|Ms5xG8i4p80KSMcF3...|          52|           Ewing|   NJ|             Italian|\n",
      "|7Du9oW73YcYFmXdtU...|          17|Saint Petersburg|   FL|            Japanese|\n",
      "|vPcfJ3rm3NpdqVDod...|          27|       Langhorne|   PA|            Japanese|\n",
      "|ZU6NodDOWaabGkeNp...|           6|      Clearwater|   FL|            American|\n",
      "|8c0r7olQSYGcws0bT...|           5| New Port Richey|   FL|            Hawaiian|\n",
      "|4IcB3QyMEA85UTWFK...|           8|     New Orleans|   LA|            American|\n",
      "|YR0nwxBOKk6DiLHNI...|          14|       St Albert|   AB|             Italian|\n",
      "|jcL_qaGJiappzpnn-...|           8|        Edmonton|   AB|             Chinese|\n",
      "|VbItL6RDULtnw4YvB...|         178|    Philadelphia|   PA|             Tex-Mex|\n",
      "|W57cR9a7XP6RX56MS...|          58|     New Orleans|   LA|             Mexican|\n",
      "|JF7iyI3wA_AKi_iXO...|          61|         Ardmore|   PA|             Italian|\n",
      "+--------------------+------------+----------------+-----+--------------------+\n",
      "only showing top 20 rows\n",
      "\n",
      "average stars foreach cuisine consider only authentic language\n",
      "+--------------------+---------------+------------------+\n",
      "|single_categories_wa|num_auth_review|         avg_stars|\n",
      "+--------------------+---------------+------------------+\n",
      "|          Sri Lankan|             10|               4.4|\n",
      "|            Lebanese|            147| 4.346938775510204|\n",
      "|             Russian|            108| 4.314814814814815|\n",
      "|              Polish|            226|4.3053097345132745|\n",
      "|             Turkish|             99|4.2727272727272725|\n",
      "|           Ethiopian|            640|           4.15625|\n",
      "|            Filipino|            354| 4.135593220338983|\n",
      "|           Colombian|            160|           4.13125|\n",
      "|              Syrian|            130| 4.084615384615384|\n",
      "|             Spanish|           2063| 4.064953950557441|\n",
      "|            Egyptian|             43| 4.046511627906977|\n",
      "|      Middle Eastern|           2586| 4.041763341067285|\n",
      "|              German|           2499| 4.038815526210485|\n",
      "|              Korean|           3909| 4.034024047070862|\n",
      "|         Bangladeshi|             40|             4.025|\n",
      "|            Moroccan|            346| 4.023121387283237|\n",
      "|              French|           4488|3.9888591800356505|\n",
      "|           Caribbean|           1774| 3.984216459977452|\n",
      "|       Mediterranean|           7414| 3.973293768545994|\n",
      "|               Cuban|           1316| 3.966565349544073|\n",
      "+--------------------+---------------+------------------+\n",
      "only showing top 20 rows\n",
      "\n"
     ]
    }
   ],
   "source": [
    "auth_reviews = reviews.filter(col(\"text\").rlike(\"|\".join(authentic_synonyms)))  \n",
    "auth_reviews = auth_reviews.persist()\n",
    "\n",
    "business_cuisine_wa = business_explode.select(\"*\",regexp_replace(col(\"single_categories\"), r\"\\s\\([^)]*\\)\", \"\").alias(\"single_categories_wa\")) \\\n",
    ".filter(col(\"single_categories_wa\").isin(international_cuisine)) \\\n",
    ".drop(\"single_categories\")\n",
    "business_cuisine_wa = business_cuisine_wa.persist()\n",
    "business_cuisine_wa.show()\n",
    "\n",
    "avg_stars_cuicine = business_cuisine_wa.join(auth_reviews, business_cuisine_wa[\"business_id\"] == auth_reviews[\"business_id\"], \"right\") \\\n",
    ".groupBy(\"single_categories_wa\") \\\n",
    ".agg(count(\"single_categories_wa\").alias(\"num_auth_review\"), avg(auth_reviews.stars).alias(\"avg_stars\")).orderBy(desc(\"avg_stars\"))\n",
    "print(\"average stars foreach cuisine consider only authentic language\")\n",
    "avg_stars_cuicine = avg_stars_cuicine.persist()\n",
    "avg_stars_cuicine.show()"
   ]
  },
  {
   "cell_type": "code",
   "execution_count": 56,
   "metadata": {
    "execution": {
     "iopub.execute_input": "2023-10-10T18:52:31.374729Z",
     "iopub.status.busy": "2023-10-10T18:52:31.374004Z",
     "iopub.status.idle": "2023-10-10T18:52:31.839880Z",
     "shell.execute_reply": "2023-10-10T18:52:31.837656Z",
     "shell.execute_reply.started": "2023-10-10T18:52:31.374674Z"
    },
    "tags": []
   },
   "outputs": [
    {
     "name": "stdout",
     "output_type": "stream",
     "text": [
      "average stars foreach cuisine consider only bad language\n",
      "+--------------------+--------------+------------------+\n",
      "|single_categories_wa|num_bad_review|     avg_stars_bad|\n",
      "+--------------------+--------------+------------------+\n",
      "|             Haitian|             2|               1.5|\n",
      "|         Bangladeshi|             2|               1.5|\n",
      "|              Syrian|             8|             1.625|\n",
      "|             African|            73|1.7123287671232876|\n",
      "|           Colombian|            11|1.7272727272727273|\n",
      "|           Pakistani|           176|1.7670454545454546|\n",
      "|             Tex-Mex|           728| 1.776098901098901|\n",
      "|             Chinese|          1913|1.7773131207527444|\n",
      "|            Egyptian|             6|1.8333333333333333|\n",
      "|             Mexican|          3508|1.8509122006841505|\n",
      "|               Irish|           139|1.8633093525179856|\n",
      "|               Greek|           382|1.9450261780104712|\n",
      "|             Italian|          3263|1.9549494330370825|\n",
      "|       Mediterranean|           659|1.9575113808801214|\n",
      "|              Indian|           457|1.9584245076586433|\n",
      "|            Peruvian|            25|              1.96|\n",
      "|            Moroccan|            26|1.9615384615384615|\n",
      "|            Japanese|          1372|1.9715743440233235|\n",
      "|            American|         10431|1.9781420765027322|\n",
      "|               Cuban|           104|1.9903846153846154|\n",
      "+--------------------+--------------+------------------+\n",
      "only showing top 20 rows\n",
      "\n"
     ]
    }
   ],
   "source": [
    "bad_reviews = reviews.filter(col(\"text\").rlike(\"|\".join(bad_words))) \n",
    "\n",
    "avg_bad_cuicine = business_cuisine_wa.join(bad_reviews, business_cuisine_wa[\"business_id\"] == bad_reviews[\"business_id\"], \"inner\") \\\n",
    ".groupBy(\"single_categories_wa\") \\\n",
    ".agg(count(\"single_categories_wa\").alias(\"num_bad_review\"), avg(auth_reviews.stars).alias(\"avg_stars_bad\")).orderBy(\"avg_stars_bad\")\n",
    "\n",
    "print(\"average stars foreach cuisine consider only bad language\")\n",
    "avg_bad_cuicine = avg_bad_cuicine.persist()\n",
    "avg_bad_cuicine.show()"
   ]
  },
  {
   "cell_type": "code",
   "execution_count": 57,
   "metadata": {
    "execution": {
     "iopub.execute_input": "2023-10-10T18:52:31.938900Z",
     "iopub.status.busy": "2023-10-10T18:52:31.938310Z",
     "iopub.status.idle": "2023-10-10T18:52:33.439544Z",
     "shell.execute_reply": "2023-10-10T18:52:33.438100Z",
     "shell.execute_reply.started": "2023-10-10T18:52:31.938848Z"
    },
    "tags": []
   },
   "outputs": [
    {
     "name": "stdout",
     "output_type": "stream",
     "text": [
      "+--------------+---------------------------+---------------+------------------------------+--------------+\n",
      "|     Continent|num_auth_review * avg_stars|tot_auth_review|num_bad_review * avg_stars_bad|tot_bad_review|\n",
      "+--------------+---------------------------+---------------+------------------------------+--------------+\n",
      "|      European|                   181353.0|          47085|                       11299.0|          5439|\n",
      "|North American|                   454657.0|         122183|                       31468.0|         16048|\n",
      "|         Asian|                   202257.0|          53174|                       11013.0|          5673|\n",
      "|South American|                     3967.0|           1035|                         153.0|            73|\n",
      "|Middle Eastern|                    11622.0|           2863|                         387.0|           194|\n",
      "|       African|                     4226.0|           1029|                         144.0|            65|\n",
      "+--------------+---------------------------+---------------+------------------------------+--------------+\n",
      "\n"
     ]
    }
   ],
   "source": [
    "result = avg_stars_cuicine.join(df_cuisine,df_cuisine[\"Cuisine\"] == avg_stars_cuicine[\"single_categories_wa\"]) \\\n",
    ".join(avg_bad_cuicine,avg_bad_cuicine[\"single_categories_wa\"] == avg_stars_cuicine[\"single_categories_wa\"]) \\\n",
    ".groupBy(\"Continent\") \\\n",
    ".agg(sum((col(\"num_auth_review\") * col(\"avg_stars\"))).alias(\"num_auth_review * avg_stars\"), \\\n",
    "    sum(\"num_auth_review\").alias(\"tot_auth_review\"), \\\n",
    "    sum((col(\"num_bad_review\") * col(\"avg_stars_bad\"))).alias(\"num_bad_review * avg_stars_bad\"), \\\n",
    "    sum(\"num_bad_review\").alias(\"tot_bad_review\")\n",
    ")\n",
    "result.show()"
   ]
  },
  {
   "cell_type": "code",
   "execution_count": 58,
   "metadata": {
    "execution": {
     "iopub.execute_input": "2023-10-10T18:52:33.442439Z",
     "iopub.status.busy": "2023-10-10T18:52:33.441742Z",
     "iopub.status.idle": "2023-10-10T18:52:35.985487Z",
     "shell.execute_reply": "2023-10-10T18:52:35.983839Z",
     "shell.execute_reply.started": "2023-10-10T18:52:33.442386Z"
    },
    "tags": []
   },
   "outputs": [
    {
     "name": "stdout",
     "output_type": "stream",
     "text": [
      "+--------------+---------------------------+---------------+------------------------------+--------------+------------------+----------------+\n",
      "|     Continent|num_auth_review * avg_stars|tot_auth_review|num_bad_review * avg_stars_bad|tot_bad_review|       overall_avg|overall_auth_avg|\n",
      "+--------------+---------------------------+---------------+------------------------------+--------------+------------------+----------------+\n",
      "|      European|                   181353.0|          47085|                       11299.0|          5439|3.8516087926091114|          3.8516|\n",
      "|North American|                   454657.0|         122183|                       31468.0|         16048|3.7211150487383677|          3.7211|\n",
      "|         Asian|                   202257.0|          53174|                       11013.0|          5673| 3.803682250724038|          3.8037|\n",
      "|South American|                     3967.0|           1035|                         153.0|            73|3.8328502415458936|          3.8329|\n",
      "|Middle Eastern|                    11622.0|           2863|                         387.0|           194| 4.059378274537199|          4.0594|\n",
      "|       African|                     4226.0|           1029|                         144.0|            65|  4.10689990281827|          4.1069|\n",
      "+--------------+---------------------------+---------------+------------------------------+--------------+------------------+----------------+\n",
      "\n",
      "Average stars grouped by white and not cuisine\n",
      "+--------------+----------------+---------------+\n",
      "|     Continent|overall_auth_avg|overall_bad_avg|\n",
      "+--------------+----------------+---------------+\n",
      "|      European|          3.8516|         2.0774|\n",
      "|North American|          3.7211|         1.9609|\n",
      "|         Asian|          3.8037|         1.9413|\n",
      "|South American|          3.8329|         2.0959|\n",
      "|Middle Eastern|          4.0594|         1.9948|\n",
      "|       African|          4.1069|         2.2154|\n",
      "+--------------+----------------+---------------+\n",
      "\n"
     ]
    }
   ],
   "source": [
    "result_1 = result.withColumn(\"overall_avg\", col(\"num_auth_review * avg_stars\") / col(\"tot_auth_review\")) \\\n",
    ".withColumn(\"overall_auth_avg\", round(col(\"overall_avg\"), 4))\n",
    "result_1.show()\n",
    "result_2 = result_1.withColumn(\"overall_bad_avg\", col(\"num_bad_review * avg_stars_bad\") / col(\"tot_bad_review\")) \\\n",
    ".withColumn(\"overall_bad_avg\", round(col(\"overall_bad_avg\"), 4)) \\\n",
    ".select(\"Continent\",\"overall_auth_avg\",\"overall_bad_avg\")\n",
    "\n",
    "print(\"Average stars grouped by white and not cuisine\")\n",
    "result_2.show()"
   ]
  },
  {
   "cell_type": "code",
   "execution_count": 59,
   "metadata": {
    "execution": {
     "iopub.execute_input": "2023-10-10T18:52:36.149640Z",
     "iopub.status.busy": "2023-10-10T18:52:36.149413Z",
     "iopub.status.idle": "2023-10-10T18:52:48.975845Z",
     "shell.execute_reply": "2023-10-10T18:52:48.974179Z",
     "shell.execute_reply.started": "2023-10-10T18:52:36.149620Z"
    },
    "tags": []
   },
   "outputs": [
    {
     "name": "stdout",
     "output_type": "stream",
     "text": [
      "+--------------+--------------------+\n",
      "|     Continent|overall_bad_auth_avg|\n",
      "+--------------+--------------------+\n",
      "|      European|              2.4728|\n",
      "|       African|              2.3639|\n",
      "|North American|              2.2688|\n",
      "|Middle Eastern|              1.9806|\n",
      "|         Asian|              2.1425|\n",
      "|South American|              2.1943|\n",
      "+--------------+--------------------+\n",
      "\n"
     ]
    }
   ],
   "source": [
    "#bad_reviews.show()\n",
    "#auth_reviews.show()\n",
    "join_bad_auth = bad_reviews.join(auth_reviews, auth_reviews[\"business_id\"] == bad_reviews[\"business_id\"],\"inner\") \\\n",
    ".select(auth_reviews[\"*\"])\n",
    "\n",
    "avg_bad_auth_cuicine = business_cuisine_wa.join(join_bad_auth, business_cuisine_wa[\"business_id\"] == join_bad_auth[\"business_id\"], \"inner\") \\\n",
    ".groupBy(\"single_categories_wa\") \\\n",
    ".agg(count(\"single_categories_wa\").alias(\"num_bad_auth_review\"), avg(auth_reviews.stars).alias(\"avg_stars\")).orderBy(\"avg_stars\")\n",
    "\n",
    "#avg_bad_auth_cuicine.show()\n",
    "\n",
    "\n",
    "result_bad_auth = avg_bad_auth_cuicine.join(df_cuisine,df_cuisine[\"Cuisine\"] == avg_bad_auth_cuicine[\"single_categories_wa\"]) \\\n",
    ".groupBy(\"Continent\") \\\n",
    ".agg(sum((col(\"num_bad_auth_review\") * col(\"avg_stars\"))).alias(\"num_bag_auth_review * avg_stars\"), \\\n",
    "    sum(\"num_bad_auth_review\").alias(\"tot_bad_auth_review\"), \\\n",
    ")\n",
    "\n",
    "result_3 = result_bad_auth.withColumn(\"overall_avg\", col(\"num_bag_auth_review * avg_stars\") / col(\"tot_bad_auth_review\")) \\\n",
    ".withColumn(\"overall_bad_auth_avg\", round(col(\"overall_avg\"), 4)) \\\n",
    ".select(\"Continent\",\"overall_bad_auth_avg\")\n",
    "result_3.show()"
   ]
  },
  {
   "cell_type": "markdown",
   "metadata": {
    "id": "Yv0z4qChKe6Y"
   },
   "source": [
    "# 3.3 Machine Learning\n"
   ]
  },
  {
   "cell_type": "code",
   "execution_count": 60,
   "metadata": {
    "execution": {
     "iopub.execute_input": "2023-10-10T18:52:48.978734Z",
     "iopub.status.busy": "2023-10-10T18:52:48.978036Z",
     "iopub.status.idle": "2023-10-10T18:52:49.516370Z",
     "shell.execute_reply": "2023-10-10T18:52:49.514989Z",
     "shell.execute_reply.started": "2023-10-10T18:52:48.978679Z"
    },
    "id": "4B9mzUR_Kizw",
    "tags": []
   },
   "outputs": [],
   "source": [
    "from pyspark.ml.feature import Tokenizer, HashingTF\n",
    "from pyspark.ml.classification import DecisionTreeClassifier, NaiveBayes \n",
    "from pyspark.ml.evaluation import MulticlassClassificationEvaluator\n",
    "from pyspark.sql import functions as f"
   ]
  },
  {
   "cell_type": "code",
   "execution_count": 61,
   "metadata": {
    "execution": {
     "iopub.execute_input": "2023-10-10T18:52:49.518556Z",
     "iopub.status.busy": "2023-10-10T18:52:49.518191Z",
     "iopub.status.idle": "2023-10-10T18:52:53.066148Z",
     "shell.execute_reply": "2023-10-10T18:52:53.064769Z",
     "shell.execute_reply.started": "2023-10-10T18:52:49.518527Z"
    },
    "tags": []
   },
   "outputs": [
    {
     "name": "stdout",
     "output_type": "stream",
     "text": [
      "+--------------------+-----+\n",
      "|                text|stars|\n",
      "+--------------------+-----+\n",
      "|Whoever put Meson...|  4.0|\n",
      "|This is actually ...|  5.0|\n",
      "|First time as a f...|  5.0|\n",
      "|I've been craving...|  5.0|\n",
      "|My overall the ex...|  4.0|\n",
      "|Truly authentic. ...|  5.0|\n",
      "|A bit overpriced ...|  4.0|\n",
      "|Got take out from...|  4.0|\n",
      "|Fantastic, authen...|  4.0|\n",
      "|Guys this is prob...|  5.0|\n",
      "|I almost died whe...|  5.0|\n",
      "|One of the origin...|  4.0|\n",
      "|Awesome Cuban San...|  5.0|\n",
      "|Was good, people ...|  3.0|\n",
      "|TL;DR - REALLY go...|  5.0|\n",
      "|Sad sad sad!!!! I...|  2.0|\n",
      "|It's really good,...|  4.0|\n",
      "|This is my second...|  3.0|\n",
      "|I really wanted t...|  1.0|\n",
      "|The coconut chick...|  4.0|\n",
      "+--------------------+-----+\n",
      "only showing top 20 rows\n",
      "\n"
     ]
    },
    {
     "data": {
      "text/plain": [
       "2063"
      ]
     },
     "execution_count": 61,
     "metadata": {},
     "output_type": "execute_result"
    }
   ],
   "source": [
    "# we will do the test on the spanish auth reviews\n",
    "reviews = spark.read.json('file:////work/yelp/yelp_academic_dataset_review.json')\n",
    "auth_reviews = reviews.filter(col(\"text\").rlike(\"|\".join(authentic_synonyms)))  \n",
    "auth_reviews = auth_reviews.persist()\n",
    "\n",
    "auth_reviews_cuicine = auth_reviews.join(business_cuisine_wa,business_cuisine_wa[\"business_id\"] == auth_reviews[\"business_id\"]) \\\n",
    ".filter(col(\"single_categories_wa\") == \"Spanish\").select(\"text\",\"stars\")\n",
    "auth_reviews_cuicine.show()\n",
    "auth_reviews_cuicine.count()"
   ]
  },
  {
   "cell_type": "code",
   "execution_count": 62,
   "metadata": {
    "execution": {
     "iopub.execute_input": "2023-10-10T18:52:53.068716Z",
     "iopub.status.busy": "2023-10-10T18:52:53.068048Z",
     "iopub.status.idle": "2023-10-10T18:52:54.844146Z",
     "shell.execute_reply": "2023-10-10T18:52:54.842520Z",
     "shell.execute_reply.started": "2023-10-10T18:52:53.068676Z"
    },
    "tags": []
   },
   "outputs": [
    {
     "name": "stdout",
     "output_type": "stream",
     "text": [
      "1435 628\n"
     ]
    }
   ],
   "source": [
    "#The test set needs to be separated before any preprocessing of the data that involves dataset statistics.\n",
    "train_df, test_df = auth_reviews_cuicine.randomSplit([0.7, 0.3])\n",
    "print(train_df.count(),test_df.count())"
   ]
  },
  {
   "cell_type": "code",
   "execution_count": 63,
   "metadata": {
    "execution": {
     "iopub.execute_input": "2023-10-10T18:52:54.846929Z",
     "iopub.status.busy": "2023-10-10T18:52:54.846189Z",
     "iopub.status.idle": "2023-10-10T18:52:55.105056Z",
     "shell.execute_reply": "2023-10-10T18:52:55.103420Z",
     "shell.execute_reply.started": "2023-10-10T18:52:54.846876Z"
    },
    "tags": []
   },
   "outputs": [],
   "source": [
    "from pyspark.ml import Pipeline\n",
    "tokenizer = Tokenizer(inputCol=\"text\", outputCol=\"words\") # Create tokenizer object specifying which column to tokenize\n",
    "hashingtf = HashingTF(inputCol=\"words\", outputCol=\"features\") # specify name of output column\n",
    "dt_evaluator = MulticlassClassificationEvaluator(labelCol=\"stars\",predictionCol=\"prediction\",metricName=\"accuracy\")\n",
    "\n",
    "decisiontree = DecisionTreeClassifier(labelCol=\"stars\",featuresCol=\"features\")\n",
    "naivebayes = NaiveBayes(modelType=\"multinomial\",labelCol=\"stars\",featuresCol=\"features\")"
   ]
  },
  {
   "cell_type": "code",
   "execution_count": 64,
   "metadata": {
    "execution": {
     "iopub.execute_input": "2023-10-10T18:52:55.150972Z",
     "iopub.status.busy": "2023-10-10T18:52:55.150791Z",
     "iopub.status.idle": "2023-10-10T18:53:25.024189Z",
     "shell.execute_reply": "2023-10-10T18:53:25.022628Z",
     "shell.execute_reply.started": "2023-10-10T18:52:55.150956Z"
    },
    "tags": []
   },
   "outputs": [
    {
     "name": "stdout",
     "output_type": "stream",
     "text": [
      "+--------------------+-----+--------------------+--------------------+--------------------+--------------------+----------+\n",
      "|                text|stars|               words|            features|       rawPrediction|         probability|prediction|\n",
      "+--------------------+-----+--------------------+--------------------+--------------------+--------------------+----------+\n",
      "|First time as a f...|  5.0|[first, time, as,...|(262144,[5573,875...|[0.0,1.0,3.0,4.0,...|[0.0,0.0181818181...|       5.0|\n",
      "|This is actually ...|  5.0|[this, is, actual...|(262144,[1619,230...|[0.0,1.0,5.0,11.0...|[0.0,0.0158730158...|       4.0|\n",
      "|Fantastic, authen...|  4.0|[fantastic,, auth...|(262144,[12631,15...|[0.0,10.0,16.0,18...|[0.0,0.0233100233...|       5.0|\n",
      "|Got take out from...|  4.0|[got, take, out, ...|(262144,[2325,553...|[0.0,40.0,53.0,10...|[0.0,0.0909090909...|       4.0|\n",
      "|Truly authentic. ...|  5.0|[truly, authentic...|(262144,[6346,168...|[0.0,10.0,16.0,18...|[0.0,0.0233100233...|       5.0|\n",
      "|Guys this is prob...|  5.0|[guys, this, is, ...|(262144,[2609,634...|[0.0,10.0,16.0,18...|[0.0,0.0233100233...|       5.0|\n",
      "|$65 for the highe...|  5.0|[$65, for, the, h...|(262144,[3924,591...|[0.0,0.0,1.0,0.0,...|[0.0,0.0,0.034482...|       5.0|\n",
      "|3.5 stars\\n\\nI ca...|  3.0|[3.5, stars, , i,...|(262144,[1109,168...|[0.0,40.0,53.0,10...|[0.0,0.0909090909...|       4.0|\n",
      "|A VERY solid plac...|  4.0|[a, very, solid, ...|(262144,[1797,270...|[0.0,0.0,1.0,2.0,...|[0.0,0.0,0.083333...|       4.0|\n",
      "|A really good pla...|  4.0|[a, really, good,...|(262144,[4214,462...|[0.0,40.0,53.0,10...|[0.0,0.0909090909...|       4.0|\n",
      "|After going by th...|  3.0|[after, going, by...|(262144,[7625,905...|[0.0,1.0,3.0,4.0,...|[0.0,0.0181818181...|       5.0|\n",
      "|All the food was ...|  4.0|[all, the, food, ...|(262144,[3669,462...|[0.0,1.0,3.0,4.0,...|[0.0,0.0181818181...|       5.0|\n",
      "|Amada is a very n...|  4.0|[amada, is, a, ve...|(262144,[1083,110...|[0.0,3.0,1.0,0.0,...|[0.0,0.0652173913...|       5.0|\n",
      "|Amazing! We order...|  5.0|[amazing!, we, or...|(262144,[7221,748...|[0.0,10.0,16.0,18...|[0.0,0.0233100233...|       5.0|\n",
      "|Amazing, fresh , ...|  4.0|[amazing,, fresh,...|(262144,[1671,105...|[0.0,10.0,16.0,18...|[0.0,0.0233100233...|       5.0|\n",
      "|Awesome Cuban San...|  5.0|[awesome, cuban, ...|(262144,[49815,65...|[0.0,10.0,16.0,18...|[0.0,0.0233100233...|       5.0|\n",
      "|Being half Spanis...|  1.0|[being, half, spa...|(262144,[1508,160...|[0.0,40.0,53.0,10...|[0.0,0.0909090909...|       4.0|\n",
      "|Brilliant tapas r...|  5.0|[brilliant, tapas...|(262144,[8538,114...|[0.0,10.0,16.0,18...|[0.0,0.0233100233...|       5.0|\n",
      "|Bruh.... This pla...|  3.0|[bruh...., this, ...|(262144,[432,520,...|[0.0,40.0,53.0,10...|[0.0,0.0909090909...|       4.0|\n",
      "|Came here with a ...|  2.0|[came, here, with...|(262144,[1603,161...|[0.0,1.0,5.0,11.0...|[0.0,0.0158730158...|       4.0|\n",
      "+--------------------+-----+--------------------+--------------------+--------------------+--------------------+----------+\n",
      "only showing top 20 rows\n",
      "\n"
     ]
    }
   ],
   "source": [
    "# with decision tree algo\n",
    "pipeline = Pipeline(stages=[tokenizer, hashingtf, decisiontree])\n",
    "\n",
    "trained_model_pipeline = pipeline.fit(train_df)\n",
    "test_preds = trained_model_pipeline.transform(test_df)\n",
    "test_preds.show()"
   ]
  },
  {
   "cell_type": "code",
   "execution_count": 65,
   "metadata": {
    "execution": {
     "iopub.execute_input": "2023-10-10T18:53:25.027269Z",
     "iopub.status.busy": "2023-10-10T18:53:25.026483Z",
     "iopub.status.idle": "2023-10-10T18:53:29.430328Z",
     "shell.execute_reply": "2023-10-10T18:53:29.428647Z",
     "shell.execute_reply.started": "2023-10-10T18:53:25.027217Z"
    },
    "tags": []
   },
   "outputs": [
    {
     "name": "stdout",
     "output_type": "stream",
     "text": [
      "+--------------------+-----+--------------------+--------------------+--------------------+--------------------+----------+\n",
      "|                text|stars|               words|            features|       rawPrediction|         probability|prediction|\n",
      "+--------------------+-----+--------------------+--------------------+--------------------+--------------------+----------+\n",
      "|First time as a f...|  5.0|[first, time, as,...|(262144,[5573,875...|[-2056.3814342173...|[1.19932205411066...|       4.0|\n",
      "|This is actually ...|  5.0|[this, is, actual...|(262144,[1619,230...|[-1586.2047674708...|[6.55638136404062...|       4.0|\n",
      "|Fantastic, authen...|  4.0|[fantastic,, auth...|(262144,[12631,15...|[-373.83890708928...|[1.47844976527254...|       4.0|\n",
      "|Got take out from...|  4.0|[got, take, out, ...|(262144,[2325,553...|[-1851.5343518804...|[1.75482969527240...|       4.0|\n",
      "|Truly authentic. ...|  5.0|[truly, authentic...|(262144,[6346,168...|[-168.42267254814...|[6.44115179945193...|       4.0|\n",
      "|Guys this is prob...|  5.0|[guys, this, is, ...|(262144,[2609,634...|[-918.38671256827...|[5.64835035261426...|       4.0|\n",
      "|$65 for the highe...|  5.0|[$65, for, the, h...|(262144,[3924,591...|[-1755.3623156338...|[1.92363271698266...|       4.0|\n",
      "|3.5 stars\\n\\nI ca...|  3.0|[3.5, stars, , i,...|(262144,[1109,168...|[-1857.6290390062...|[1.05855455371457...|       4.0|\n",
      "|A VERY solid plac...|  4.0|[a, very, solid, ...|(262144,[1797,270...|[-2124.5466326550...|[5.65912107270574...|       4.0|\n",
      "|A really good pla...|  4.0|[a, really, good,...|(262144,[4214,462...|[-909.26434959411...|[7.71535989326523...|       4.0|\n",
      "|After going by th...|  3.0|[after, going, by...|(262144,[7625,905...|[-897.25419517062...|[7.62666347738159...|       4.0|\n",
      "|All the food was ...|  4.0|[all, the, food, ...|(262144,[3669,462...|[-1226.4100896489...|[2.53901563702677...|       4.0|\n",
      "|Amada is a very n...|  4.0|[amada, is, a, ve...|(262144,[1083,110...|[-1422.6678340181...|[1.25167128464811...|       4.0|\n",
      "|Amazing! We order...|  5.0|[amazing!, we, or...|(262144,[7221,748...|[-353.21495414369...|[1.07764819316605...|       4.0|\n",
      "|Amazing, fresh , ...|  4.0|[amazing,, fresh,...|(262144,[1671,105...|[-482.02929668586...|[1.21333968091268...|       4.0|\n",
      "|Awesome Cuban San...|  5.0|[awesome, cuban, ...|(262144,[49815,65...|[-213.12315684537...|[9.39123014212201...|       4.0|\n",
      "|Being half Spanis...|  1.0|[being, half, spa...|(262144,[1508,160...|[-3168.1366388315...|[1.00835078566765...|       4.0|\n",
      "|Brilliant tapas r...|  5.0|[brilliant, tapas...|(262144,[8538,114...|[-512.98775002209...|[1.51722210184015...|       4.0|\n",
      "|Bruh.... This pla...|  3.0|[bruh...., this, ...|(262144,[432,520,...|[-3305.9612881118...|[2.52430966738077...|       4.0|\n",
      "|Came here with a ...|  2.0|[came, here, with...|(262144,[1603,161...|[-2602.2150716005...|[2.08589824631163...|       4.0|\n",
      "+--------------------+-----+--------------------+--------------------+--------------------+--------------------+----------+\n",
      "only showing top 20 rows\n",
      "\n"
     ]
    }
   ],
   "source": [
    "# with naive bayes algo\n",
    "pipeline_naive = Pipeline(stages=[tokenizer, hashingtf, naivebayes])\n",
    "\n",
    "trained_model_pipeline_naive = pipeline_naive.fit(train_df)\n",
    "test_preds_naive = trained_model_pipeline_naive.transform(test_df)\n",
    "test_preds_naive.show()"
   ]
  },
  {
   "cell_type": "code",
   "execution_count": 66,
   "metadata": {
    "execution": {
     "iopub.execute_input": "2023-10-10T18:53:29.433458Z",
     "iopub.status.busy": "2023-10-10T18:53:29.432521Z",
     "iopub.status.idle": "2023-10-10T18:53:31.154025Z",
     "shell.execute_reply": "2023-10-10T18:53:31.153210Z",
     "shell.execute_reply.started": "2023-10-10T18:53:29.433405Z"
    },
    "tags": []
   },
   "outputs": [
    {
     "name": "stdout",
     "output_type": "stream",
     "text": [
      "Accuracy with Decision Tree  0.4426751592356688\n",
      "Accuracy with Naive Bayes  0.26910828025477707\n"
     ]
    }
   ],
   "source": [
    "dt_accuracy = dt_evaluator.evaluate(test_preds)\n",
    "print(\"Accuracy with Decision Tree \",dt_accuracy)\n",
    "dt_accuracy_naive = dt_evaluator.evaluate(test_preds_naive)\n",
    "print(\"Accuracy with Naive Bayes \",dt_accuracy_naive)"
   ]
  },
  {
   "cell_type": "code",
   "execution_count": null,
   "metadata": {},
   "outputs": [],
   "source": []
  }
 ],
 "metadata": {
  "colab": {
   "authorship_tag": "ABX9TyMclxh6VA+0iUvc2+fgBwvb",
   "provenance": []
  },
  "kernelspec": {
   "display_name": "Python 3 ",
   "language": "python",
   "name": "python3"
  },
  "language_info": {
   "codemirror_mode": {
    "name": "ipython",
    "version": 3
   },
   "file_extension": ".py",
   "mimetype": "text/x-python",
   "name": "python",
   "nbconvert_exporter": "python",
   "pygments_lexer": "ipython3",
   "version": "3.10.6"
  }
 },
 "nbformat": 4,
 "nbformat_minor": 4
}
